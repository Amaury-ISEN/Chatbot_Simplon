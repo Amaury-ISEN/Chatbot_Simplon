{
 "cells": [
  {
   "cell_type": "markdown",
   "metadata": {},
   "source": [
    "# Chatbot\n",
    "\n",
    "Options :"
   ]
  },
  {
   "cell_type": "code",
   "execution_count": 1,
   "metadata": {},
   "outputs": [],
   "source": [
    "train_model = True\n",
    "#train_model = False"
   ]
  },
  {
   "cell_type": "code",
   "execution_count": 2,
   "metadata": {},
   "outputs": [],
   "source": [
    "api = False\n",
    "#api = True"
   ]
  },
  {
   "cell_type": "code",
   "execution_count": 3,
   "metadata": {},
   "outputs": [],
   "source": [
    "#test = False\n",
    "test = False"
   ]
  },
  {
   "cell_type": "markdown",
   "metadata": {},
   "source": [
    "Importer les modules nécessaires :"
   ]
  },
  {
   "cell_type": "code",
   "execution_count": 4,
   "metadata": {},
   "outputs": [],
   "source": [
    "import json\n",
    "import pandas as pd\n",
    "from nltk.stem.snowball import FrenchStemmer, EnglishStemmer\n",
    "from nltk.corpus import stopwords\n",
    "from langdetect import detect_langs\n",
    "import unicodedata\n",
    "import pickle\n",
    "\n",
    "from tensorflow.keras.preprocessing.text import Tokenizer\n",
    "from tensorflow.keras.preprocessing.sequence import pad_sequences\n",
    "from sklearn.preprocessing import LabelEncoder\n",
    "\n",
    "from tensorflow.keras.layers import Input, Embedding, LSTM, Bidirectional, Dense,GlobalMaxPooling1D,Flatten\n",
    "from tensorflow.keras.models import Sequential, load_model\n",
    "from tensorflow.keras.callbacks import ModelCheckpoint, ReduceLROnPlateau\n",
    "from tensorflow.keras.backend import clear_session\n",
    "\n",
    "from sklearn.metrics import confusion_matrix\n",
    "\n",
    "import matplotlib.pyplot as plt\n",
    "import random\n",
    "import numpy as np\n",
    "\n",
    "from flask import Flask, render_template, request\n",
    "\n",
    "import pickle"
   ]
  },
  {
   "cell_type": "markdown",
   "metadata": {},
   "source": [
    "Obtenir la DataFrame à partir de ``content.json`` :"
   ]
  },
  {
   "cell_type": "code",
   "execution_count": 5,
   "metadata": {},
   "outputs": [],
   "source": [
    "#ouvrir le fichier JSON\n",
    "from API.connecteur import Connecteur"
   ]
  },
  {
   "cell_type": "code",
   "execution_count": 6,
   "metadata": {},
   "outputs": [],
   "source": [
    "data1 = Connecteur.get_all_data()"
   ]
  },
  {
   "cell_type": "code",
   "execution_count": 7,
   "metadata": {
    "scrolled": false
   },
   "outputs": [
    {
     "data": {
      "text/html": [
       "<div>\n",
       "<style scoped>\n",
       "    .dataframe tbody tr th:only-of-type {\n",
       "        vertical-align: middle;\n",
       "    }\n",
       "\n",
       "    .dataframe tbody tr th {\n",
       "        vertical-align: top;\n",
       "    }\n",
       "\n",
       "    .dataframe thead th {\n",
       "        text-align: right;\n",
       "    }\n",
       "</style>\n",
       "<table border=\"1\" class=\"dataframe\">\n",
       "  <thead>\n",
       "    <tr style=\"text-align: right;\">\n",
       "      <th></th>\n",
       "      <th>inputs</th>\n",
       "      <th>tags</th>\n",
       "    </tr>\n",
       "  </thead>\n",
       "  <tbody>\n",
       "    <tr>\n",
       "      <th>1293</th>\n",
       "      <td>Est ce que l'école fournit une aide au  logeme...</td>\n",
       "      <td>logement</td>\n",
       "    </tr>\n",
       "    <tr>\n",
       "      <th>1078</th>\n",
       "      <td>Does a partnership need a contract?</td>\n",
       "      <td>en_conditions</td>\n",
       "    </tr>\n",
       "    <tr>\n",
       "      <th>633</th>\n",
       "      <td>Partner</td>\n",
       "      <td>en_partner</td>\n",
       "    </tr>\n",
       "    <tr>\n",
       "      <th>104</th>\n",
       "      <td>Nous cherchons à recruter des alternants</td>\n",
       "      <td>partenaire</td>\n",
       "    </tr>\n",
       "    <tr>\n",
       "      <th>777</th>\n",
       "      <td>Schedule</td>\n",
       "      <td>en_pédagogie</td>\n",
       "    </tr>\n",
       "    <tr>\n",
       "      <th>...</th>\n",
       "      <td>...</td>\n",
       "      <td>...</td>\n",
       "    </tr>\n",
       "    <tr>\n",
       "      <th>1157</th>\n",
       "      <td>Do students become apprentices?</td>\n",
       "      <td>en_contrat</td>\n",
       "    </tr>\n",
       "    <tr>\n",
       "      <th>1422</th>\n",
       "      <td>Who to speak to about becoming a partner?</td>\n",
       "      <td>en_adresser</td>\n",
       "    </tr>\n",
       "    <tr>\n",
       "      <th>137</th>\n",
       "      <td>J’aimerai des informations</td>\n",
       "      <td>salutation</td>\n",
       "    </tr>\n",
       "    <tr>\n",
       "      <th>1468</th>\n",
       "      <td>Is it possible to recommend someone as a candi...</td>\n",
       "      <td>en_personne</td>\n",
       "    </tr>\n",
       "    <tr>\n",
       "      <th>711</th>\n",
       "      <td>kill yourself</td>\n",
       "      <td>en_insultes</td>\n",
       "    </tr>\n",
       "  </tbody>\n",
       "</table>\n",
       "<p>1495 rows × 2 columns</p>\n",
       "</div>"
      ],
      "text/plain": [
       "                                                 inputs           tags\n",
       "1293  Est ce que l'école fournit une aide au  logeme...       logement\n",
       "1078                Does a partnership need a contract?  en_conditions\n",
       "633                                             Partner     en_partner\n",
       "104            Nous cherchons à recruter des alternants     partenaire\n",
       "777                                            Schedule   en_pédagogie\n",
       "...                                                 ...            ...\n",
       "1157                    Do students become apprentices?     en_contrat\n",
       "1422          Who to speak to about becoming a partner?    en_adresser\n",
       "137                          J’aimerai des informations     salutation\n",
       "1468  Is it possible to recommend someone as a candi...    en_personne\n",
       "711                                       kill yourself    en_insultes\n",
       "\n",
       "[1495 rows x 2 columns]"
      ]
     },
     "metadata": {},
     "output_type": "display_data"
    },
    {
     "data": {
      "text/plain": [
       "apprenant          53\n",
       "debouches          47\n",
       "admission          42\n",
       "en_covid           41\n",
       "partenaire         38\n",
       "                   ..\n",
       "selection           1\n",
       "contrat             1\n",
       "logement            1\n",
       "nombre_recruter     1\n",
       "conditions          1\n",
       "Name: tags, Length: 79, dtype: int64"
      ]
     },
     "execution_count": 7,
     "metadata": {},
     "output_type": "execute_result"
    }
   ],
   "source": [
    "#créer les listes vides\n",
    "tags = []\n",
    "inputs = []\n",
    "responses={}\n",
    "#les remplir avec le contenu du JSON\n",
    "for intent in data1['intents']:\n",
    "  responses[intent['tag']]=intent['liste_output']\n",
    "  for lines in intent['liste_input']:\n",
    "    inputs.append(lines)\n",
    "    tags.append(intent['tag'])\n",
    "    \n",
    "#convertir en DataFrame\n",
    "data = pd.DataFrame({\"inputs\":inputs,\n",
    "                     \"tags\":tags})\n",
    "\n",
    "#mélanger aléatoirement\n",
    "data = data.sample(frac=1)\n",
    "\n",
    "#montrer la DataFrame\n",
    "display(data)\n",
    "#montrer les catégories\n",
    "data[\"tags\"].value_counts()"
   ]
  },
  {
   "cell_type": "markdown",
   "metadata": {},
   "source": [
    "Créer les fonctions de traitement du texte :"
   ]
  },
  {
   "cell_type": "code",
   "execution_count": 8,
   "metadata": {},
   "outputs": [],
   "source": [
    "#enlever les accents du texte\n",
    "def remove_accents(input_str):\n",
    "    nfkd_form = unicodedata.normalize('NFKD', input_str)\n",
    "    only_ascii = nfkd_form.encode('ASCII', 'ignore')\n",
    "    return str(only_ascii)[2:-1]"
   ]
  },
  {
   "cell_type": "code",
   "execution_count": 9,
   "metadata": {},
   "outputs": [],
   "source": [
    "#définir les stopwords\n",
    "stop_words_en = list(set(stopwords.words('english')))\n",
    "stop_words_fr = list(set(stopwords.words('french')))\n",
    "\n",
    "#rajouter aux stopwords français leurs versions sans accents\n",
    "stop_words_fr_1 = []\n",
    "for word in stop_words_fr:\n",
    "    word = remove_accents(word)\n",
    "    stop_words_fr_1.append(word)\n",
    "stop_words_fr = list(sorted(set(stop_words_fr + stop_words_fr_1)))"
   ]
  },
  {
   "cell_type": "code",
   "execution_count": 10,
   "metadata": {},
   "outputs": [],
   "source": [
    "#traiter le texte\n",
    "def treatment(text):\n",
    "    #vérifier si c'est une question\n",
    "    if text[-1] == \"?\":\n",
    "        question = \"?\"\n",
    "    else:\n",
    "        question = \"0\"\n",
    "        \n",
    "    #vérifier la langue\n",
    "    language_list = detect_langs(text)\n",
    "    language_list_2 = []\n",
    "    for language in language_list:\n",
    "        language = str(language).split(\":\")[0]\n",
    "        language_list_2.append(language)\n",
    "    if \"fr\" in language_list_2:\n",
    "        language = \"francais\"\n",
    "    elif \"en\" in language_list_2:\n",
    "        language = \"anglais\"\n",
    "    else:\n",
    "        language = \"francais\"\n",
    "    \n",
    "    #segmenter le texte et traiter chaque mot et chaque lettre\n",
    "    text = text.split()\n",
    "    words_list = []\n",
    "    for word in text:\n",
    "        letters_list = []\n",
    "        for character in word:\n",
    "            #vérifier que le caractère est une lettre\n",
    "            if character.isalpha():\n",
    "                #rajouter à la liste en minuscule\n",
    "                letters_list.append(character.lower())\n",
    "            else:\n",
    "                letters_list.append(\" \")\n",
    "        word = \"\".join(letters_list)\n",
    "        \n",
    "        #appliquer le stemming suivant la langue\n",
    "        for word1 in word.split():\n",
    "            word_yes = False\n",
    "            if language == \"anglais\":\n",
    "                if word1 not in stop_words_en:\n",
    "                    word1 = EnglishStemmer().stem(word1)\n",
    "                    word_yes = True\n",
    "            else:\n",
    "                if word1 not in stop_words_fr:\n",
    "                    word1 = FrenchStemmer().stem(word1)\n",
    "                    word_yes = True\n",
    "            #enlever les accents\n",
    "            if word_yes == True:\n",
    "                word1 = remove_accents(word1)\n",
    "                words_list.append(word1)\n",
    "            \n",
    "    #joindre en une string\n",
    "    text = \" \".join(words_list)\n",
    "    return \" \".join([text, question, language])\n",
    "    #pour avoir en trois colonnes\n",
    "    #return [text, question, language]"
   ]
  },
  {
   "cell_type": "markdown",
   "metadata": {},
   "source": [
    "Obtenir une colonne avec les inputs traités :"
   ]
  },
  {
   "cell_type": "code",
   "execution_count": 11,
   "metadata": {},
   "outputs": [],
   "source": [
    "#pour avoir en trois colonnes\n",
    "\n",
    "#text_list = []\n",
    "#ques_list = []\n",
    "#lang_list = []\n",
    "\n",
    "#for value in data[\"inputs\"]:\n",
    "    #value = treatment(value)\n",
    "    #text_list.append(value[0])\n",
    "    #ques_list.append(value[1])\n",
    "    #lang_list.append(value[2])\n",
    "\n",
    "#data[\"text\"] = text_list\n",
    "#data[\"?\"] = ques_list\n",
    "#data[\"language\"] = lang_list"
   ]
  },
  {
   "cell_type": "code",
   "execution_count": 12,
   "metadata": {},
   "outputs": [],
   "source": [
    "data[\"texts\"] = data[\"inputs\"].apply(treatment)"
   ]
  },
  {
   "cell_type": "code",
   "execution_count": 13,
   "metadata": {},
   "outputs": [
    {
     "data": {
      "text/html": [
       "<div>\n",
       "<style scoped>\n",
       "    .dataframe tbody tr th:only-of-type {\n",
       "        vertical-align: middle;\n",
       "    }\n",
       "\n",
       "    .dataframe tbody tr th {\n",
       "        vertical-align: top;\n",
       "    }\n",
       "\n",
       "    .dataframe thead th {\n",
       "        text-align: right;\n",
       "    }\n",
       "</style>\n",
       "<table border=\"1\" class=\"dataframe\">\n",
       "  <thead>\n",
       "    <tr style=\"text-align: right;\">\n",
       "      <th></th>\n",
       "      <th>inputs</th>\n",
       "      <th>tags</th>\n",
       "      <th>texts</th>\n",
       "    </tr>\n",
       "  </thead>\n",
       "  <tbody>\n",
       "    <tr>\n",
       "      <th>1293</th>\n",
       "      <td>Est ce que l'école fournit une aide au  logeme...</td>\n",
       "      <td>logement</td>\n",
       "      <td>ecol fourn aid log appren ? francais</td>\n",
       "    </tr>\n",
       "    <tr>\n",
       "      <th>1078</th>\n",
       "      <td>Does a partnership need a contract?</td>\n",
       "      <td>en_conditions</td>\n",
       "      <td>partnership need contract ? anglais</td>\n",
       "    </tr>\n",
       "    <tr>\n",
       "      <th>633</th>\n",
       "      <td>Partner</td>\n",
       "      <td>en_partner</td>\n",
       "      <td>partn 0 francais</td>\n",
       "    </tr>\n",
       "    <tr>\n",
       "      <th>104</th>\n",
       "      <td>Nous cherchons à recruter des alternants</td>\n",
       "      <td>partenaire</td>\n",
       "      <td>cherchon recrut altern 0 francais</td>\n",
       "    </tr>\n",
       "    <tr>\n",
       "      <th>777</th>\n",
       "      <td>Schedule</td>\n",
       "      <td>en_pédagogie</td>\n",
       "      <td>schedul 0 francais</td>\n",
       "    </tr>\n",
       "    <tr>\n",
       "      <th>...</th>\n",
       "      <td>...</td>\n",
       "      <td>...</td>\n",
       "      <td>...</td>\n",
       "    </tr>\n",
       "    <tr>\n",
       "      <th>1157</th>\n",
       "      <td>Do students become apprentices?</td>\n",
       "      <td>en_contrat</td>\n",
       "      <td>do student becom apprentic ? francais</td>\n",
       "    </tr>\n",
       "    <tr>\n",
       "      <th>1422</th>\n",
       "      <td>Who to speak to about becoming a partner?</td>\n",
       "      <td>en_adresser</td>\n",
       "      <td>speak becom partner ? anglais</td>\n",
       "    </tr>\n",
       "    <tr>\n",
       "      <th>137</th>\n",
       "      <td>J’aimerai des informations</td>\n",
       "      <td>salutation</td>\n",
       "      <td>aim inform 0 francais</td>\n",
       "    </tr>\n",
       "    <tr>\n",
       "      <th>1468</th>\n",
       "      <td>Is it possible to recommend someone as a candi...</td>\n",
       "      <td>en_personne</td>\n",
       "      <td>possibl recommend someon candid ? anglais</td>\n",
       "    </tr>\n",
       "    <tr>\n",
       "      <th>711</th>\n",
       "      <td>kill yourself</td>\n",
       "      <td>en_insultes</td>\n",
       "      <td>kill yourself 0 francais</td>\n",
       "    </tr>\n",
       "  </tbody>\n",
       "</table>\n",
       "<p>1495 rows × 3 columns</p>\n",
       "</div>"
      ],
      "text/plain": [
       "                                                 inputs           tags  \\\n",
       "1293  Est ce que l'école fournit une aide au  logeme...       logement   \n",
       "1078                Does a partnership need a contract?  en_conditions   \n",
       "633                                             Partner     en_partner   \n",
       "104            Nous cherchons à recruter des alternants     partenaire   \n",
       "777                                            Schedule   en_pédagogie   \n",
       "...                                                 ...            ...   \n",
       "1157                    Do students become apprentices?     en_contrat   \n",
       "1422          Who to speak to about becoming a partner?    en_adresser   \n",
       "137                          J’aimerai des informations     salutation   \n",
       "1468  Is it possible to recommend someone as a candi...    en_personne   \n",
       "711                                       kill yourself    en_insultes   \n",
       "\n",
       "                                          texts  \n",
       "1293       ecol fourn aid log appren ? francais  \n",
       "1078        partnership need contract ? anglais  \n",
       "633                            partn 0 francais  \n",
       "104           cherchon recrut altern 0 francais  \n",
       "777                          schedul 0 francais  \n",
       "...                                         ...  \n",
       "1157      do student becom apprentic ? francais  \n",
       "1422              speak becom partner ? anglais  \n",
       "137                       aim inform 0 francais  \n",
       "1468  possibl recommend someon candid ? anglais  \n",
       "711                    kill yourself 0 francais  \n",
       "\n",
       "[1495 rows x 3 columns]"
      ]
     },
     "execution_count": 13,
     "metadata": {},
     "output_type": "execute_result"
    }
   ],
   "source": [
    "data"
   ]
  },
  {
   "cell_type": "markdown",
   "metadata": {},
   "source": [
    "Appliquer le tokenizer sur les inputs traités :"
   ]
  },
  {
   "cell_type": "code",
   "execution_count": 14,
   "metadata": {},
   "outputs": [],
   "source": [
    "tokenizer = Tokenizer(num_words=2000)\n",
    "tokenizer.fit_on_texts(data['texts'])\n",
    "with open('tokenizer.pickle', 'wb') as handle:\n",
    "    pickle.dump(tokenizer, handle, protocol=pickle.HIGHEST_PROTOCOL)\n",
    "\n",
    "train = tokenizer.texts_to_sequences(data['texts'])\n",
    "#apply padding\n",
    "x_train = pad_sequences(train)"
   ]
  },
  {
   "cell_type": "code",
   "execution_count": 15,
   "metadata": {},
   "outputs": [
    {
     "data": {
      "text/plain": [
       "array([[  0,   0,   0, ..., 345,  10,   2],\n",
       "       [  0,   0,   0, ...,  16,  50,   1],\n",
       "       [  0,   0,   0, ..., 168,   3,   2],\n",
       "       ...,\n",
       "       [  0,   0,   0, ..., 151,   3,   2],\n",
       "       [  0,   0,   0, ...,  66, 124,   1],\n",
       "       [  0,   0,   0, ..., 616,   3,   2]])"
      ]
     },
     "execution_count": 15,
     "metadata": {},
     "output_type": "execute_result"
    }
   ],
   "source": [
    "x_train"
   ]
  },
  {
   "cell_type": "markdown",
   "metadata": {},
   "source": [
    "Appliquer LabelEncoder() sur les tags :"
   ]
  },
  {
   "cell_type": "code",
   "execution_count": 16,
   "metadata": {},
   "outputs": [],
   "source": [
    "le = LabelEncoder()\n",
    "y_train = le.fit_transform(data['tags'])\n",
    "\n",
    "with open('labelencoder.pickle', 'wb') as handle:\n",
    "    pickle.dump(le, handle, protocol=pickle.HIGHEST_PROTOCOL)"
   ]
  },
  {
   "cell_type": "code",
   "execution_count": 17,
   "metadata": {},
   "outputs": [
    {
     "name": "stdout",
     "output_type": "stream",
     "text": [
      "11\n"
     ]
    }
   ],
   "source": [
    "input_shape = x_train.shape[1]\n",
    "print(input_shape)"
   ]
  },
  {
   "cell_type": "code",
   "execution_count": 18,
   "metadata": {},
   "outputs": [
    {
     "name": "stdout",
     "output_type": "stream",
     "text": [
      "Nombre de mots uniques :  616\n",
      "Taille des outputs :  79\n"
     ]
    }
   ],
   "source": [
    "vocabulary = len(tokenizer.word_index)\n",
    "print(\"Nombre de mots uniques : \",vocabulary)\n",
    "output_length = le.classes_.shape[0]\n",
    "print(\"Taille des outputs : \",output_length)"
   ]
  },
  {
   "cell_type": "markdown",
   "metadata": {},
   "source": [
    "### Validation (Validation split)"
   ]
  },
  {
   "cell_type": "code",
   "execution_count": 19,
   "metadata": {},
   "outputs": [],
   "source": [
    "#longueur d'1/5 du Dataset\n",
    "prod=int(len(x_train)* 0.2)\n",
    "\n",
    "#séparation en x_val et x_train\n",
    "x_val=x_train[-prod:, :]\n",
    "x_train=x_train[:-prod, :]"
   ]
  },
  {
   "cell_type": "code",
   "execution_count": 20,
   "metadata": {},
   "outputs": [],
   "source": [
    "#séparation en y_val et y_train\n",
    "y_val=y_train[ -prod:]\n",
    "y_train=y_train[:-prod]"
   ]
  },
  {
   "cell_type": "code",
   "execution_count": 21,
   "metadata": {},
   "outputs": [
    {
     "data": {
      "text/plain": [
       "(299, 11)"
      ]
     },
     "metadata": {},
     "output_type": "display_data"
    },
    {
     "data": {
      "text/plain": [
       "(1196, 11)"
      ]
     },
     "metadata": {},
     "output_type": "display_data"
    },
    {
     "data": {
      "text/plain": [
       "(299,)"
      ]
     },
     "metadata": {},
     "output_type": "display_data"
    },
    {
     "data": {
      "text/plain": [
       "(1196,)"
      ]
     },
     "metadata": {},
     "output_type": "display_data"
    }
   ],
   "source": [
    "display(x_val.shape,x_train.shape,y_val.shape,y_train.shape)"
   ]
  },
  {
   "cell_type": "markdown",
   "metadata": {},
   "source": [
    "Créer et entraîner le modèle :"
   ]
  },
  {
   "cell_type": "code",
   "execution_count": 22,
   "metadata": {},
   "outputs": [
    {
     "name": "stdout",
     "output_type": "stream",
     "text": [
      "Epoch 1/100\n",
      "38/38 [==============================] - 9s 94ms/step - loss: 4.3195 - accuracy: 0.0238 - val_loss: 4.1051 - val_accuracy: 0.0301\n",
      "\n",
      "Epoch 00001: val_loss improved from inf to 4.10506, saving model to model.h5\n",
      "Epoch 2/100\n",
      "38/38 [==============================] - 0s 10ms/step - loss: 4.0349 - accuracy: 0.0388 - val_loss: 4.0137 - val_accuracy: 0.0368\n",
      "\n",
      "Epoch 00002: val_loss improved from 4.10506 to 4.01373, saving model to model.h5\n",
      "Epoch 3/100\n",
      "38/38 [==============================] - 0s 10ms/step - loss: 3.8661 - accuracy: 0.0701 - val_loss: 3.6141 - val_accuracy: 0.0870\n",
      "\n",
      "Epoch 00003: val_loss improved from 4.01373 to 3.61414, saving model to model.h5\n",
      "Epoch 4/100\n",
      "38/38 [==============================] - 0s 11ms/step - loss: 3.5126 - accuracy: 0.0838 - val_loss: 3.4853 - val_accuracy: 0.0970\n",
      "\n",
      "Epoch 00004: val_loss improved from 3.61414 to 3.48533, saving model to model.h5\n",
      "Epoch 5/100\n",
      "38/38 [==============================] - 0s 11ms/step - loss: 3.3266 - accuracy: 0.1291 - val_loss: 3.2408 - val_accuracy: 0.1104\n",
      "\n",
      "Epoch 00005: val_loss improved from 3.48533 to 3.24083, saving model to model.h5\n",
      "Epoch 6/100\n",
      "38/38 [==============================] - 0s 10ms/step - loss: 2.9644 - accuracy: 0.1557 - val_loss: 2.9171 - val_accuracy: 0.1706\n",
      "\n",
      "Epoch 00006: val_loss improved from 3.24083 to 2.91706, saving model to model.h5\n",
      "Epoch 7/100\n",
      "38/38 [==============================] - 0s 11ms/step - loss: 2.5968 - accuracy: 0.2593 - val_loss: 2.7195 - val_accuracy: 0.2375\n",
      "\n",
      "Epoch 00007: val_loss improved from 2.91706 to 2.71953, saving model to model.h5\n",
      "Epoch 8/100\n",
      "38/38 [==============================] - 0s 10ms/step - loss: 2.3323 - accuracy: 0.3135 - val_loss: 2.5572 - val_accuracy: 0.2943\n",
      "\n",
      "Epoch 00008: val_loss improved from 2.71953 to 2.55719, saving model to model.h5\n",
      "Epoch 9/100\n",
      "38/38 [==============================] - 0s 10ms/step - loss: 2.0557 - accuracy: 0.3804 - val_loss: 2.4318 - val_accuracy: 0.3211\n",
      "\n",
      "Epoch 00009: val_loss improved from 2.55719 to 2.43183, saving model to model.h5\n",
      "Epoch 10/100\n",
      "38/38 [==============================] - 0s 11ms/step - loss: 1.8386 - accuracy: 0.4614 - val_loss: 2.3798 - val_accuracy: 0.3712\n",
      "\n",
      "Epoch 00010: val_loss improved from 2.43183 to 2.37985, saving model to model.h5\n",
      "Epoch 11/100\n",
      "38/38 [==============================] - 0s 10ms/step - loss: 1.5449 - accuracy: 0.5667 - val_loss: 2.2340 - val_accuracy: 0.4080\n",
      "\n",
      "Epoch 00011: val_loss improved from 2.37985 to 2.23396, saving model to model.h5\n",
      "Epoch 12/100\n",
      "38/38 [==============================] - 0s 10ms/step - loss: 1.3824 - accuracy: 0.6063 - val_loss: 2.1796 - val_accuracy: 0.4716\n",
      "\n",
      "Epoch 00012: val_loss improved from 2.23396 to 2.17956, saving model to model.h5\n",
      "Epoch 13/100\n",
      "38/38 [==============================] - 0s 11ms/step - loss: 1.1930 - accuracy: 0.6618 - val_loss: 2.1680 - val_accuracy: 0.4916\n",
      "\n",
      "Epoch 00013: val_loss improved from 2.17956 to 2.16802, saving model to model.h5\n",
      "Epoch 14/100\n",
      "38/38 [==============================] - 0s 10ms/step - loss: 1.0463 - accuracy: 0.7107 - val_loss: 2.0450 - val_accuracy: 0.5117\n",
      "\n",
      "Epoch 00014: val_loss improved from 2.16802 to 2.04496, saving model to model.h5\n",
      "Epoch 15/100\n",
      "38/38 [==============================] - 0s 11ms/step - loss: 0.9406 - accuracy: 0.7467 - val_loss: 2.2246 - val_accuracy: 0.5151\n",
      "\n",
      "Epoch 00015: val_loss did not improve from 2.04496\n",
      "Epoch 16/100\n",
      "38/38 [==============================] - 0s 12ms/step - loss: 0.8904 - accuracy: 0.7428 - val_loss: 2.0107 - val_accuracy: 0.5318\n",
      "\n",
      "Epoch 00016: val_loss improved from 2.04496 to 2.01073, saving model to model.h5\n",
      "Epoch 17/100\n",
      "38/38 [==============================] - 0s 12ms/step - loss: 0.7662 - accuracy: 0.8112 - val_loss: 1.9820 - val_accuracy: 0.5886\n",
      "\n",
      "Epoch 00017: val_loss improved from 2.01073 to 1.98199, saving model to model.h5\n",
      "Epoch 18/100\n",
      "38/38 [==============================] - 0s 11ms/step - loss: 0.6131 - accuracy: 0.8424 - val_loss: 2.0001 - val_accuracy: 0.5853\n",
      "\n",
      "Epoch 00018: val_loss did not improve from 1.98199\n",
      "Epoch 19/100\n",
      "38/38 [==============================] - 0s 11ms/step - loss: 0.5611 - accuracy: 0.8593 - val_loss: 2.0283 - val_accuracy: 0.5819\n",
      "\n",
      "Epoch 00019: val_loss did not improve from 1.98199\n",
      "Epoch 20/100\n",
      "38/38 [==============================] - 0s 10ms/step - loss: 0.5036 - accuracy: 0.8789 - val_loss: 1.9760 - val_accuracy: 0.5619\n",
      "\n",
      "Epoch 00020: val_loss improved from 1.98199 to 1.97598, saving model to model.h5\n",
      "Epoch 21/100\n",
      "38/38 [==============================] - 0s 10ms/step - loss: 0.4759 - accuracy: 0.8670 - val_loss: 1.9656 - val_accuracy: 0.6020\n",
      "\n",
      "Epoch 00021: val_loss improved from 1.97598 to 1.96564, saving model to model.h5\n",
      "Epoch 22/100\n",
      "38/38 [==============================] - 0s 10ms/step - loss: 0.4449 - accuracy: 0.8868 - val_loss: 2.0565 - val_accuracy: 0.6120\n",
      "\n",
      "Epoch 00022: val_loss did not improve from 1.96564\n",
      "Epoch 23/100\n",
      "38/38 [==============================] - 0s 11ms/step - loss: 0.3784 - accuracy: 0.9059 - val_loss: 1.9683 - val_accuracy: 0.6288\n",
      "\n",
      "Epoch 00023: val_loss did not improve from 1.96564\n",
      "Epoch 24/100\n",
      "38/38 [==============================] - 0s 10ms/step - loss: 0.3855 - accuracy: 0.8975 - val_loss: 2.0015 - val_accuracy: 0.6455\n",
      "\n",
      "Epoch 00024: val_loss did not improve from 1.96564\n",
      "Epoch 25/100\n",
      "38/38 [==============================] - 0s 10ms/step - loss: 0.3114 - accuracy: 0.9242 - val_loss: 2.0317 - val_accuracy: 0.6421\n",
      "\n",
      "Epoch 00025: val_loss did not improve from 1.96564\n",
      "Epoch 26/100\n",
      "38/38 [==============================] - 0s 10ms/step - loss: 0.3330 - accuracy: 0.9158 - val_loss: 2.0998 - val_accuracy: 0.6288\n",
      "\n",
      "Epoch 00026: val_loss did not improve from 1.96564\n",
      "Epoch 27/100\n",
      "38/38 [==============================] - 0s 11ms/step - loss: 0.2984 - accuracy: 0.9211 - val_loss: 2.0438 - val_accuracy: 0.6555\n",
      "\n",
      "Epoch 00027: val_loss did not improve from 1.96564\n",
      "Epoch 28/100\n",
      "38/38 [==============================] - 0s 10ms/step - loss: 0.2633 - accuracy: 0.9346 - val_loss: 2.1103 - val_accuracy: 0.6622\n",
      "\n",
      "Epoch 00028: val_loss did not improve from 1.96564\n",
      "\n",
      "Epoch 00028: ReduceLROnPlateau reducing learning rate to 0.0005000000237487257.\n",
      "Epoch 29/100\n",
      "38/38 [==============================] - 0s 10ms/step - loss: 0.2286 - accuracy: 0.9404 - val_loss: 2.0451 - val_accuracy: 0.6622\n",
      "\n",
      "Epoch 00029: val_loss did not improve from 1.96564\n",
      "Epoch 30/100\n",
      "38/38 [==============================] - 0s 10ms/step - loss: 0.1694 - accuracy: 0.9736 - val_loss: 2.0102 - val_accuracy: 0.6823\n",
      "\n",
      "Epoch 00030: val_loss did not improve from 1.96564\n",
      "Epoch 31/100\n",
      "38/38 [==============================] - 0s 10ms/step - loss: 0.1955 - accuracy: 0.9460 - val_loss: 2.0448 - val_accuracy: 0.6756\n",
      "\n",
      "Epoch 00031: val_loss did not improve from 1.96564\n",
      "Epoch 32/100\n",
      "38/38 [==============================] - 0s 10ms/step - loss: 0.1672 - accuracy: 0.9589 - val_loss: 2.1263 - val_accuracy: 0.6488\n",
      "\n",
      "Epoch 00032: val_loss did not improve from 1.96564\n",
      "Epoch 33/100\n",
      "38/38 [==============================] - 0s 10ms/step - loss: 0.1759 - accuracy: 0.9641 - val_loss: 2.0284 - val_accuracy: 0.6856\n",
      "\n",
      "Epoch 00033: val_loss did not improve from 1.96564\n",
      "Epoch 34/100\n",
      "38/38 [==============================] - 0s 10ms/step - loss: 0.1746 - accuracy: 0.9545 - val_loss: 2.0762 - val_accuracy: 0.6656\n",
      "\n",
      "Epoch 00034: val_loss did not improve from 1.96564\n",
      "Epoch 35/100\n",
      "38/38 [==============================] - 0s 10ms/step - loss: 0.1574 - accuracy: 0.9684 - val_loss: 2.1014 - val_accuracy: 0.6689\n",
      "\n",
      "Epoch 00035: val_loss did not improve from 1.96564\n",
      "\n",
      "Epoch 00035: ReduceLROnPlateau reducing learning rate to 0.0002500000118743628.\n",
      "Epoch 36/100\n",
      "38/38 [==============================] - 0s 10ms/step - loss: 0.1463 - accuracy: 0.9639 - val_loss: 2.0773 - val_accuracy: 0.6722\n",
      "\n",
      "Epoch 00036: val_loss did not improve from 1.96564\n",
      "Epoch 37/100\n",
      "38/38 [==============================] - 0s 10ms/step - loss: 0.1324 - accuracy: 0.9712 - val_loss: 2.0944 - val_accuracy: 0.6756\n",
      "\n",
      "Epoch 00037: val_loss did not improve from 1.96564\n",
      "Epoch 38/100\n",
      "38/38 [==============================] - 0s 10ms/step - loss: 0.1281 - accuracy: 0.9767 - val_loss: 2.1092 - val_accuracy: 0.6856\n",
      "\n",
      "Epoch 00038: val_loss did not improve from 1.96564\n",
      "Epoch 39/100\n"
     ]
    },
    {
     "name": "stdout",
     "output_type": "stream",
     "text": [
      "38/38 [==============================] - 0s 10ms/step - loss: 0.1270 - accuracy: 0.9732 - val_loss: 2.0861 - val_accuracy: 0.6957\n",
      "\n",
      "Epoch 00039: val_loss did not improve from 1.96564\n",
      "Epoch 40/100\n",
      "38/38 [==============================] - 0s 10ms/step - loss: 0.1202 - accuracy: 0.9703 - val_loss: 2.1082 - val_accuracy: 0.6890\n",
      "\n",
      "Epoch 00040: val_loss did not improve from 1.96564\n",
      "Epoch 41/100\n",
      "38/38 [==============================] - 0s 12ms/step - loss: 0.1345 - accuracy: 0.9693 - val_loss: 2.1022 - val_accuracy: 0.6990\n",
      "\n",
      "Epoch 00041: val_loss did not improve from 1.96564\n",
      "Epoch 42/100\n",
      "38/38 [==============================] - 0s 10ms/step - loss: 0.1207 - accuracy: 0.9752 - val_loss: 2.1133 - val_accuracy: 0.6890\n",
      "\n",
      "Epoch 00042: val_loss did not improve from 1.96564\n",
      "\n",
      "Epoch 00042: ReduceLROnPlateau reducing learning rate to 0.0001250000059371814.\n",
      "Epoch 43/100\n",
      "38/38 [==============================] - 0s 10ms/step - loss: 0.1290 - accuracy: 0.9682 - val_loss: 2.1168 - val_accuracy: 0.6789\n",
      "\n",
      "Epoch 00043: val_loss did not improve from 1.96564\n",
      "Epoch 44/100\n",
      "38/38 [==============================] - 0s 10ms/step - loss: 0.1298 - accuracy: 0.9713 - val_loss: 2.1235 - val_accuracy: 0.6957\n",
      "\n",
      "Epoch 00044: val_loss did not improve from 1.96564\n",
      "Epoch 45/100\n",
      "38/38 [==============================] - 0s 10ms/step - loss: 0.1084 - accuracy: 0.9788 - val_loss: 2.1078 - val_accuracy: 0.6923\n",
      "\n",
      "Epoch 00045: val_loss did not improve from 1.96564\n",
      "Epoch 46/100\n",
      "38/38 [==============================] - 0s 10ms/step - loss: 0.1146 - accuracy: 0.9735 - val_loss: 2.1279 - val_accuracy: 0.6923\n",
      "\n",
      "Epoch 00046: val_loss did not improve from 1.96564\n",
      "Epoch 47/100\n",
      "38/38 [==============================] - 0s 10ms/step - loss: 0.1043 - accuracy: 0.9829 - val_loss: 2.1176 - val_accuracy: 0.6890\n",
      "\n",
      "Epoch 00047: val_loss did not improve from 1.96564\n",
      "Epoch 48/100\n",
      "38/38 [==============================] - 0s 10ms/step - loss: 0.1109 - accuracy: 0.9773 - val_loss: 2.1332 - val_accuracy: 0.6856\n",
      "\n",
      "Epoch 00048: val_loss did not improve from 1.96564\n",
      "Epoch 49/100\n",
      "38/38 [==============================] - 0s 10ms/step - loss: 0.1015 - accuracy: 0.9824 - val_loss: 2.1244 - val_accuracy: 0.6990\n",
      "\n",
      "Epoch 00049: val_loss did not improve from 1.96564\n",
      "\n",
      "Epoch 00049: ReduceLROnPlateau reducing learning rate to 6.25000029685907e-05.\n",
      "Epoch 50/100\n",
      "38/38 [==============================] - 0s 11ms/step - loss: 0.1071 - accuracy: 0.9825 - val_loss: 2.1266 - val_accuracy: 0.7057\n",
      "\n",
      "Epoch 00050: val_loss did not improve from 1.96564\n",
      "Epoch 51/100\n",
      "38/38 [==============================] - 0s 11ms/step - loss: 0.1039 - accuracy: 0.9758 - val_loss: 2.1414 - val_accuracy: 0.6923\n",
      "\n",
      "Epoch 00051: val_loss did not improve from 1.96564\n",
      "Epoch 52/100\n",
      "38/38 [==============================] - 0s 10ms/step - loss: 0.1004 - accuracy: 0.9822 - val_loss: 2.1389 - val_accuracy: 0.6957\n",
      "\n",
      "Epoch 00052: val_loss did not improve from 1.96564\n",
      "Epoch 53/100\n",
      "38/38 [==============================] - 0s 10ms/step - loss: 0.1011 - accuracy: 0.9837 - val_loss: 2.1400 - val_accuracy: 0.6957\n",
      "\n",
      "Epoch 00053: val_loss did not improve from 1.96564\n",
      "Epoch 54/100\n",
      "38/38 [==============================] - 0s 11ms/step - loss: 0.1069 - accuracy: 0.9777 - val_loss: 2.1425 - val_accuracy: 0.6957\n",
      "\n",
      "Epoch 00054: val_loss did not improve from 1.96564\n",
      "Epoch 55/100\n",
      "38/38 [==============================] - 0s 10ms/step - loss: 0.0917 - accuracy: 0.9813 - val_loss: 2.1444 - val_accuracy: 0.6990\n",
      "\n",
      "Epoch 00055: val_loss did not improve from 1.96564\n",
      "Epoch 56/100\n",
      "38/38 [==============================] - 0s 11ms/step - loss: 0.1030 - accuracy: 0.9844 - val_loss: 2.1345 - val_accuracy: 0.6957\n",
      "\n",
      "Epoch 00056: val_loss did not improve from 1.96564\n",
      "\n",
      "Epoch 00056: ReduceLROnPlateau reducing learning rate to 3.125000148429535e-05.\n",
      "Epoch 57/100\n",
      "38/38 [==============================] - 0s 10ms/step - loss: 0.1046 - accuracy: 0.9809 - val_loss: 2.1409 - val_accuracy: 0.6990\n",
      "\n",
      "Epoch 00057: val_loss did not improve from 1.96564\n",
      "Epoch 58/100\n",
      "38/38 [==============================] - 0s 11ms/step - loss: 0.1058 - accuracy: 0.9814 - val_loss: 2.1376 - val_accuracy: 0.6957\n",
      "\n",
      "Epoch 00058: val_loss did not improve from 1.96564\n",
      "Epoch 59/100\n",
      "38/38 [==============================] - 0s 10ms/step - loss: 0.1086 - accuracy: 0.9773 - val_loss: 2.1460 - val_accuracy: 0.6990\n",
      "\n",
      "Epoch 00059: val_loss did not improve from 1.96564\n",
      "Epoch 60/100\n",
      "38/38 [==============================] - 0s 10ms/step - loss: 0.0941 - accuracy: 0.9846 - val_loss: 2.1443 - val_accuracy: 0.7057\n",
      "\n",
      "Epoch 00060: val_loss did not improve from 1.96564\n",
      "Epoch 61/100\n",
      "38/38 [==============================] - 0s 10ms/step - loss: 0.0928 - accuracy: 0.9883 - val_loss: 2.1463 - val_accuracy: 0.6990\n",
      "\n",
      "Epoch 00061: val_loss did not improve from 1.96564\n",
      "Epoch 62/100\n",
      "38/38 [==============================] - 0s 10ms/step - loss: 0.0983 - accuracy: 0.9803 - val_loss: 2.1440 - val_accuracy: 0.7023\n",
      "\n",
      "Epoch 00062: val_loss did not improve from 1.96564\n",
      "Epoch 63/100\n",
      "38/38 [==============================] - 0s 10ms/step - loss: 0.0921 - accuracy: 0.9856 - val_loss: 2.1505 - val_accuracy: 0.6990\n",
      "\n",
      "Epoch 00063: val_loss did not improve from 1.96564\n",
      "\n",
      "Epoch 00063: ReduceLROnPlateau reducing learning rate to 1.5625000742147677e-05.\n",
      "Epoch 64/100\n",
      "38/38 [==============================] - 0s 10ms/step - loss: 0.0918 - accuracy: 0.9859 - val_loss: 2.1504 - val_accuracy: 0.7023\n",
      "\n",
      "Epoch 00064: val_loss did not improve from 1.96564\n",
      "Epoch 65/100\n",
      "38/38 [==============================] - 0s 10ms/step - loss: 0.1034 - accuracy: 0.9796 - val_loss: 2.1494 - val_accuracy: 0.6990\n",
      "\n",
      "Epoch 00065: val_loss did not improve from 1.96564\n",
      "Epoch 66/100\n",
      "38/38 [==============================] - 0s 10ms/step - loss: 0.1066 - accuracy: 0.9797 - val_loss: 2.1501 - val_accuracy: 0.6990\n",
      "\n",
      "Epoch 00066: val_loss did not improve from 1.96564\n",
      "Epoch 67/100\n",
      "38/38 [==============================] - 0s 11ms/step - loss: 0.1045 - accuracy: 0.9806 - val_loss: 2.1497 - val_accuracy: 0.6990\n",
      "\n",
      "Epoch 00067: val_loss did not improve from 1.96564\n",
      "Epoch 68/100\n",
      "38/38 [==============================] - 0s 10ms/step - loss: 0.0998 - accuracy: 0.9796 - val_loss: 2.1509 - val_accuracy: 0.7023\n",
      "\n",
      "Epoch 00068: val_loss did not improve from 1.96564\n",
      "Epoch 69/100\n",
      "38/38 [==============================] - 0s 10ms/step - loss: 0.0817 - accuracy: 0.9898 - val_loss: 2.1495 - val_accuracy: 0.6990\n",
      "\n",
      "Epoch 00069: val_loss did not improve from 1.96564\n",
      "Epoch 70/100\n",
      "38/38 [==============================] - 0s 10ms/step - loss: 0.0988 - accuracy: 0.9814 - val_loss: 2.1504 - val_accuracy: 0.7023\n",
      "\n",
      "Epoch 00070: val_loss did not improve from 1.96564\n",
      "\n",
      "Epoch 00070: ReduceLROnPlateau reducing learning rate to 7.812500371073838e-06.\n",
      "Epoch 71/100\n",
      "38/38 [==============================] - 0s 10ms/step - loss: 0.0954 - accuracy: 0.9874 - val_loss: 2.1513 - val_accuracy: 0.7023\n",
      "\n",
      "Epoch 00071: val_loss did not improve from 1.96564\n",
      "Epoch 72/100\n",
      "38/38 [==============================] - 0s 10ms/step - loss: 0.0980 - accuracy: 0.9819 - val_loss: 2.1507 - val_accuracy: 0.7057\n",
      "\n",
      "Epoch 00072: val_loss did not improve from 1.96564\n",
      "Epoch 73/100\n",
      "38/38 [==============================] - 0s 10ms/step - loss: 0.1120 - accuracy: 0.9811 - val_loss: 2.1519 - val_accuracy: 0.7057\n",
      "\n",
      "Epoch 00073: val_loss did not improve from 1.96564\n",
      "Epoch 74/100\n",
      "38/38 [==============================] - 0s 10ms/step - loss: 0.1064 - accuracy: 0.9802 - val_loss: 2.1518 - val_accuracy: 0.7057\n",
      "\n",
      "Epoch 00074: val_loss did not improve from 1.96564\n",
      "Epoch 75/100\n",
      "38/38 [==============================] - 0s 10ms/step - loss: 0.0915 - accuracy: 0.9856 - val_loss: 2.1529 - val_accuracy: 0.7057\n",
      "\n",
      "Epoch 00075: val_loss did not improve from 1.96564\n",
      "Epoch 76/100\n",
      "38/38 [==============================] - 0s 10ms/step - loss: 0.0981 - accuracy: 0.9826 - val_loss: 2.1524 - val_accuracy: 0.7057\n",
      "\n",
      "Epoch 00076: val_loss did not improve from 1.96564\n",
      "Epoch 77/100\n",
      "38/38 [==============================] - 0s 10ms/step - loss: 0.0974 - accuracy: 0.9809 - val_loss: 2.1524 - val_accuracy: 0.7057\n",
      "\n",
      "Epoch 00077: val_loss did not improve from 1.96564\n",
      "\n",
      "Epoch 00077: ReduceLROnPlateau reducing learning rate to 3.906250185536919e-06.\n",
      "Epoch 78/100\n",
      "38/38 [==============================] - 0s 10ms/step - loss: 0.0942 - accuracy: 0.9836 - val_loss: 2.1521 - val_accuracy: 0.7057\n"
     ]
    },
    {
     "name": "stdout",
     "output_type": "stream",
     "text": [
      "\n",
      "Epoch 00078: val_loss did not improve from 1.96564\n",
      "Epoch 79/100\n",
      "38/38 [==============================] - 0s 10ms/step - loss: 0.1021 - accuracy: 0.9821 - val_loss: 2.1533 - val_accuracy: 0.7023\n",
      "\n",
      "Epoch 00079: val_loss did not improve from 1.96564\n",
      "Epoch 80/100\n",
      "38/38 [==============================] - 0s 10ms/step - loss: 0.0895 - accuracy: 0.9857 - val_loss: 2.1537 - val_accuracy: 0.7057\n",
      "\n",
      "Epoch 00080: val_loss did not improve from 1.96564\n",
      "Epoch 81/100\n",
      "38/38 [==============================] - 0s 10ms/step - loss: 0.0866 - accuracy: 0.9876 - val_loss: 2.1543 - val_accuracy: 0.6990\n",
      "\n",
      "Epoch 00081: val_loss did not improve from 1.96564\n",
      "Epoch 82/100\n",
      "38/38 [==============================] - 0s 10ms/step - loss: 0.0903 - accuracy: 0.9862 - val_loss: 2.1537 - val_accuracy: 0.7057\n",
      "\n",
      "Epoch 00082: val_loss did not improve from 1.96564\n",
      "Epoch 83/100\n",
      "38/38 [==============================] - 0s 10ms/step - loss: 0.0939 - accuracy: 0.9862 - val_loss: 2.1537 - val_accuracy: 0.7057\n",
      "\n",
      "Epoch 00083: val_loss did not improve from 1.96564\n",
      "Epoch 84/100\n",
      "38/38 [==============================] - 0s 10ms/step - loss: 0.0973 - accuracy: 0.9824 - val_loss: 2.1536 - val_accuracy: 0.7057\n",
      "\n",
      "Epoch 00084: val_loss did not improve from 1.96564\n",
      "\n",
      "Epoch 00084: ReduceLROnPlateau reducing learning rate to 1.9531250927684596e-06.\n",
      "Epoch 85/100\n",
      "38/38 [==============================] - 0s 10ms/step - loss: 0.0949 - accuracy: 0.9795 - val_loss: 2.1537 - val_accuracy: 0.7057\n",
      "\n",
      "Epoch 00085: val_loss did not improve from 1.96564\n",
      "Epoch 86/100\n",
      "38/38 [==============================] - 0s 10ms/step - loss: 0.0915 - accuracy: 0.9862 - val_loss: 2.1539 - val_accuracy: 0.7057\n",
      "\n",
      "Epoch 00086: val_loss did not improve from 1.96564\n",
      "Epoch 87/100\n",
      "38/38 [==============================] - 0s 10ms/step - loss: 0.0899 - accuracy: 0.9862 - val_loss: 2.1539 - val_accuracy: 0.7057\n",
      "\n",
      "Epoch 00087: val_loss did not improve from 1.96564\n",
      "Epoch 88/100\n",
      "38/38 [==============================] - 0s 10ms/step - loss: 0.1065 - accuracy: 0.9729 - val_loss: 2.1538 - val_accuracy: 0.7057\n",
      "\n",
      "Epoch 00088: val_loss did not improve from 1.96564\n",
      "Epoch 89/100\n",
      "38/38 [==============================] - 0s 10ms/step - loss: 0.0962 - accuracy: 0.9822 - val_loss: 2.1538 - val_accuracy: 0.7057\n",
      "\n",
      "Epoch 00089: val_loss did not improve from 1.96564\n",
      "Epoch 90/100\n",
      "38/38 [==============================] - 0s 10ms/step - loss: 0.1008 - accuracy: 0.9824 - val_loss: 2.1542 - val_accuracy: 0.7057\n",
      "\n",
      "Epoch 00090: val_loss did not improve from 1.96564\n",
      "Epoch 91/100\n",
      "38/38 [==============================] - 0s 10ms/step - loss: 0.1010 - accuracy: 0.9803 - val_loss: 2.1538 - val_accuracy: 0.7057\n",
      "\n",
      "Epoch 00091: val_loss did not improve from 1.96564\n",
      "\n",
      "Epoch 00091: ReduceLROnPlateau reducing learning rate to 9.765625463842298e-07.\n",
      "Epoch 92/100\n",
      "38/38 [==============================] - 0s 10ms/step - loss: 0.0973 - accuracy: 0.9808 - val_loss: 2.1539 - val_accuracy: 0.7057\n",
      "\n",
      "Epoch 00092: val_loss did not improve from 1.96564\n",
      "Epoch 93/100\n",
      "38/38 [==============================] - 0s 10ms/step - loss: 0.0985 - accuracy: 0.9808 - val_loss: 2.1541 - val_accuracy: 0.7057\n",
      "\n",
      "Epoch 00093: val_loss did not improve from 1.96564\n",
      "Epoch 94/100\n",
      "38/38 [==============================] - 0s 10ms/step - loss: 0.1044 - accuracy: 0.9819 - val_loss: 2.1543 - val_accuracy: 0.7057\n",
      "\n",
      "Epoch 00094: val_loss did not improve from 1.96564\n",
      "Epoch 95/100\n",
      "38/38 [==============================] - 0s 10ms/step - loss: 0.0905 - accuracy: 0.9860 - val_loss: 2.1542 - val_accuracy: 0.7057\n",
      "\n",
      "Epoch 00095: val_loss did not improve from 1.96564\n",
      "Epoch 96/100\n",
      "38/38 [==============================] - 0s 10ms/step - loss: 0.0995 - accuracy: 0.9829 - val_loss: 2.1543 - val_accuracy: 0.7057\n",
      "\n",
      "Epoch 00096: val_loss did not improve from 1.96564\n",
      "Epoch 97/100\n",
      "38/38 [==============================] - 0s 10ms/step - loss: 0.0942 - accuracy: 0.9839 - val_loss: 2.1542 - val_accuracy: 0.7057\n",
      "\n",
      "Epoch 00097: val_loss did not improve from 1.96564\n",
      "Epoch 98/100\n",
      "38/38 [==============================] - 0s 10ms/step - loss: 0.0969 - accuracy: 0.9841 - val_loss: 2.1545 - val_accuracy: 0.7057\n",
      "\n",
      "Epoch 00098: val_loss did not improve from 1.96564\n",
      "\n",
      "Epoch 00098: ReduceLROnPlateau reducing learning rate to 4.882812731921149e-07.\n",
      "Epoch 99/100\n",
      "38/38 [==============================] - 0s 10ms/step - loss: 0.0892 - accuracy: 0.9885 - val_loss: 2.1544 - val_accuracy: 0.7057\n",
      "\n",
      "Epoch 00099: val_loss did not improve from 1.96564\n",
      "Epoch 100/100\n",
      "38/38 [==============================] - 0s 10ms/step - loss: 0.0890 - accuracy: 0.9874 - val_loss: 2.1544 - val_accuracy: 0.7057\n",
      "\n",
      "Epoch 00100: val_loss did not improve from 1.96564\n"
     ]
    }
   ],
   "source": [
    "if train_model == True:\n",
    "    #créer le modèle\n",
    "    model = Sequential()\n",
    "    model.add(Input(shape=(input_shape,)))\n",
    "    model.add(Embedding(vocabulary+1, 10))\n",
    "    model.add(Bidirectional(LSTM(40, return_sequences=True)))\n",
    "    #model.add(Bidirectional(LSTM(20)))\n",
    "    model.add(Flatten())\n",
    "    model.add(Dense(output_length, activation=\"softmax\"))\n",
    "    \n",
    "    \n",
    "    \n",
    "    #i = Input(shape=(input_shape,))\n",
    "    #x = Embedding(vocabulary+1,10)(i)\n",
    "    #x = Bidirectional(LSTM(10, return_sequences=True), input_shape=(5, 10))(x)\n",
    "    #x = Bidirectional(LSTM(10))(x)\n",
    "    #x = Flatten()(x)\n",
    "    #x = Dense(output_length,activation=\"softmax\")(x)\n",
    "    #model  = Model(i,x)\n",
    "\n",
    "    #compiler le modèle\n",
    "    model.compile(loss=\"sparse_categorical_crossentropy\",optimizer='adam',metrics=['accuracy'])\n",
    "\n",
    "    #enregistrer le modèle à son meilleur résultat\n",
    "    model_name = \"model.h5\"\n",
    "\n",
    "    modelcheckpoint = ModelCheckpoint(model_name,\n",
    "                                      monitor='val_loss',\n",
    "                                      mode='auto',\n",
    "                                      verbose=1,\n",
    "                                      save_best_only=True)\n",
    "    lr_scheduler = ReduceLROnPlateau(\n",
    "    monitor='val_loss',\n",
    "    factor=0.5,\n",
    "    patience=7,\n",
    "    min_lr=1e-7,\n",
    "    verbose=1)\n",
    "    \n",
    "\n",
    "    callback_list = [modelcheckpoint, lr_scheduler]\n",
    "    \n",
    "    #entraîner le modèle\n",
    "    history = model.fit(x_train,y_train,epochs=100, validation_data=(x_val, y_val), callbacks=callback_list)\n",
    "    clear_session()"
   ]
  },
  {
   "cell_type": "markdown",
   "metadata": {},
   "source": [
    "Faire une prédiction sur ``x_val`` :"
   ]
  },
  {
   "cell_type": "code",
   "execution_count": 23,
   "metadata": {},
   "outputs": [],
   "source": [
    "#obtenir les arguments pour chaque ligne\n",
    "y_pred=model.predict(x_val)"
   ]
  },
  {
   "cell_type": "code",
   "execution_count": 24,
   "metadata": {},
   "outputs": [
    {
     "data": {
      "text/plain": [
       "array([16, 22, 30,  4, 56, 69, 46, 55,  7, 26, 17, 46, 20, 45, 31, 20,  4,\n",
       "       54, 44, 48, 14, 14,  5,  2, 25, 40,  7, 40, 48, 20,  0, 34, 19, 25,\n",
       "        5, 78, 54, 55, 26, 69, 53, 20, 35, 14, 77,  4, 27, 55, 19, 23, 71,\n",
       "       26, 35, 14, 31, 18, 64, 20, 22, 64, 14, 22, 54, 54, 32, 36, 39, 27,\n",
       "       25, 50, 38, 38, 32, 64, 16, 47,  2, 38, 74, 55, 17, 21, 41, 14,  5,\n",
       "       33, 28, 45, 45, 55, 53, 14, 36, 19, 38, 16, 56, 16, 29, 41,  9, 32,\n",
       "       14, 61, 26, 23, 26,  5, 19, 51, 69,  4, 20, 33, 36,  5, 17, 60, 71,\n",
       "       45, 47, 19, 20, 19, 25, 20, 64,  5, 24, 69, 38, 27,  4, 21, 17, 47,\n",
       "       24, 17,  5, 16, 77,  3, 55, 61, 46, 21, 54, 49, 22, 49, 46, 28, 21,\n",
       "       64,  5, 23, 22, 32, 54, 41, 77,  9, 68, 17, 39, 34, 55,  5, 51, 35,\n",
       "       51, 21,  0, 23,  4, 55, 19, 35, 24, 44, 41, 69, 54, 31, 50, 25,  2,\n",
       "        7,  0, 42, 28, 77, 43, 23, 69, 61, 20, 55, 19, 44,  5, 29, 27, 45,\n",
       "       63,  3, 20, 35, 43,  2, 54, 77, 45, 38, 29, 64, 27, 48, 15,  7,  2,\n",
       "       51, 19, 38, 27, 14, 74, 71, 30, 31, 22, 64, 16, 44,  5, 19, 26, 26,\n",
       "       32, 60, 19,  5, 40, 25, 14,  4, 19, 35, 64, 15, 23, 22, 33, 45, 69,\n",
       "       27, 55, 68, 48, 33,  0, 18,  5, 46, 16,  0, 15, 27, 54, 23, 22, 48,\n",
       "       51, 17, 50, 28,  0,  2, 19, 54, 27, 31, 31, 71, 69,  4, 46, 21, 41,\n",
       "        7, 41, 35, 51, 53, 14, 18, 71, 42,  2], dtype=int64)"
      ]
     },
     "execution_count": 24,
     "metadata": {},
     "output_type": "execute_result"
    }
   ],
   "source": [
    "#récupérer l'argument maximal sur chaque ligne\n",
    "y_pred_2 =[]\n",
    "for pred in y_pred:\n",
    "    y_pred_2.append(pred.argmax())\n",
    "y_pred_2 = np.array(y_pred_2)\n",
    "y_pred_2"
   ]
  },
  {
   "cell_type": "markdown",
   "metadata": {},
   "source": [
    "faire une matrice de confusion pour comparer y_train de y_val"
   ]
  },
  {
   "cell_type": "code",
   "execution_count": 25,
   "metadata": {},
   "outputs": [
    {
     "data": {
      "image/png": "[encoded data removed]",
      "text/plain": [
       "<Figure size 1440x1440 with 2 Axes>"
      ]
     },
     "metadata": {
      "needs_background": "light"
     },
     "output_type": "display_data"
    }
   ],
   "source": [
    "import seaborn as sns\n",
    "\n",
    "cm = confusion_matrix(y_val , y_pred_2)\n",
    "plt.figure(figsize=(20,20))\n",
    "sns.heatmap(cm, annot=True, fmt=\".0f\", cmap = 'mako')\n",
    "plt.ylabel('Actual label')\n",
    "plt.xlabel('Predicted label')\n",
    "plt.title(\"Matrice de confusion\", size = 20)\n",
    "plt.show()"
   ]
  },
  {
   "cell_type": "markdown",
   "metadata": {},
   "source": [
    "### Historique"
   ]
  },
  {
   "cell_type": "code",
   "execution_count": 26,
   "metadata": {},
   "outputs": [
    {
     "data": {
      "image/png": "[encoded data removed]",
      "text/plain": [
       "<Figure size 432x288 with 1 Axes>"
      ]
     },
     "metadata": {
      "needs_background": "light"
     },
     "output_type": "display_data"
    }
   ],
   "source": [
    "if train_model == True:\n",
    "    #montrer l'historique de précision et des pertes\n",
    "    plt.plot(history.history['accuracy'],label=\"précision de l'entraînement sur train\")\n",
    "    plt.plot(history.history['val_accuracy'],label=\"pertes de l'entraînement sur validation\")\n",
    "    plt.legend()"
   ]
  },
  {
   "cell_type": "code",
   "execution_count": 27,
   "metadata": {},
   "outputs": [
    {
     "data": {
      "image/png": "[encoded data removed]",
      "text/plain": [
       "<Figure size 432x288 with 1 Axes>"
      ]
     },
     "metadata": {
      "needs_background": "light"
     },
     "output_type": "display_data"
    }
   ],
   "source": [
    "if train_model == True:\n",
    "    #montrer l'historique de précision et des pertes\n",
    "    plt.plot(history.history['loss'],label=\"précision de l'entraînement sur train\")\n",
    "    plt.plot(history.history['val_loss'],label=\"pertes de l'entraînement sur validation\")\n",
    "    plt.legend()"
   ]
  },
  {
   "cell_type": "code",
   "execution_count": 28,
   "metadata": {},
   "outputs": [],
   "source": [
    "if train_model == False:\n",
    "    model = load_model(\"model_py/model.h5\")"
   ]
  },
  {
   "cell_type": "markdown",
   "metadata": {},
   "source": [
    "## Test\n",
    "\n",
    "Taper 0 pour sortir."
   ]
  },
  {
   "cell_type": "code",
   "execution_count": 29,
   "metadata": {},
   "outputs": [],
   "source": [
    "if test == True:\n",
    "    while True:\n",
    "      texts_p = []\n",
    "      prediction_input = input('Vous : ')\n",
    "      if prediction_input == \"0\":\n",
    "        break\n",
    "\n",
    "      #appliquer la fonction treatment\n",
    "      prediction_input = treatment(prediction_input)\n",
    "      texts_p.append(prediction_input)\n",
    "      print(prediction_input)\n",
    "\n",
    "      #tokenizer et padding\n",
    "      prediction_input = tokenizer.texts_to_sequences(texts_p)\n",
    "      prediction_input = np.array(prediction_input).reshape(-1)\n",
    "      prediction_input = pad_sequences([prediction_input],input_shape)\n",
    "      print(prediction_input)\n",
    "\n",
    "      #obtenir la prédiction du modèle\n",
    "      output = model.predict(prediction_input)\n",
    "      output = output.argmax()\n",
    "      print(output)\n",
    "\n",
    "      #trouver la tag correspondante et la réponse\n",
    "      response_tag = le.inverse_transform([output])[0]\n",
    "      print(response_tag)\n",
    "      #print(\"Chatbot : \",random.choice(responses[response_tag]))\n",
    "      if response_tag == \"goodbye\":\n",
    "        break"
   ]
  },
  {
   "cell_type": "code",
   "execution_count": null,
   "metadata": {},
   "outputs": [],
   "source": []
  },
  {
   "cell_type": "markdown",
   "metadata": {},
   "source": [
    "## API"
   ]
  },
  {
   "cell_type": "code",
   "execution_count": 30,
   "metadata": {},
   "outputs": [],
   "source": [
    "if api == True:\n",
    "    app = Flask(__name__)\n",
    "\n",
    "    s_list = [\"inconnu\", \"apprenant\", \"partenaire\"]\n",
    "    user_status = s_list[0]\n",
    "\n",
    "    #créer deux listes de tags identifiant l'utilisateur comme étant apprenant ou partenaire\n",
    "    appr_list = []\n",
    "    part_list = []\n",
    "\n",
    "    #créer deux dictionnaires avec les équivalents d'output apprenant/partenaire\n",
    "    to_appr = {}\n",
    "    to_part = {}\n",
    "\n",
    "\n",
    "    #definir les app.route\n",
    "    @app.route(\"/\")\n",
    "    def index():\n",
    "        return render_template(\"index.html\")\n",
    "\n",
    "    @app.route(\"/get\")\n",
    "    #fonction de réponse\n",
    "    def get_bot_response():\n",
    "        #obtenir la question et la formatter\n",
    "        texts_p = []\n",
    "        prediction_input = request.args.get('msg')\n",
    "        prediction_input = treatment(prediction_input)\n",
    "        texts_p.append(prediction_input)\n",
    "\n",
    "        #formatter l'input\n",
    "        prediction_input = tokenizer.texts_to_sequences(texts_p)\n",
    "        prediction_input = np.array(prediction_input).reshape(-1)\n",
    "        prediction_input = pad_sequences([prediction_input],input_shape)\n",
    "\n",
    "        #prédire l'output\n",
    "        output = model.predict(prediction_input)\n",
    "        output = output.argmax()\n",
    "\n",
    "        #vérifier si l'output identifie l'utilisateur\n",
    "        if output in appr_list:\n",
    "            user_status = s_list[1]\n",
    "        elif output in part_list:\n",
    "            user_status = s_list[2]\n",
    "\n",
    "        #si l'utilisateur est identifié et l'output est susceptible de changer pour ça, alors le changer\n",
    "        if user_status == s_list[1] and output in to_appr.keys():\n",
    "            output = to_appr[output]\n",
    "        elif user_status == s_list[2] and output in to_part.keys():\n",
    "            output = to_part[output]\n",
    "\n",
    "        #transformer la réponse et la renvoyer\n",
    "        response_tag = le.inverse_transform([output])[0]\n",
    "        response = str(\"Chatbot : \",random.choice(responses[response_tag]))\n",
    "        return response\n",
    "\n",
    "    #lancer l'API\n",
    "    if __name__ == \"__main__\":\n",
    "        app.run()"
   ]
  }
 ],
 "metadata": {
  "kernelspec": {
   "display_name": "Python 3",
   "language": "python",
   "name": "python3"
  },
  "language_info": {
   "codemirror_mode": {
    "name": "ipython",
    "version": 3
   },
   "file_extension": ".py",
   "mimetype": "text/x-python",
   "name": "python",
   "nbconvert_exporter": "python",
   "pygments_lexer": "ipython3",
   "version": "3.8.3"
  }
 },
 "nbformat": 4,
 "nbformat_minor": 5
}
